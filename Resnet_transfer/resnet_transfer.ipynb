import torch
import torch.nn as nn
import torch.nn.functional as f
import torch.nn.init
import torchvision
from torchvision import models
import torchvision.transforms as transforms
from torchvision import transforms
import torchvision.datasets as dsets

#parameters
learning_rate = 1e-3
batch_size = 128
epoch = 80


transforms_ = transforms.Compose([
    transforms.RandomHorizontalFlip(),
    transforms.RandomRotation(45),
    transforms.RandomRotation(90),
    transforms.RandomRotation(315),
    transforms.RandomRotation(270),
    transforms.RandomSizedCrop(25),
    transforms.ColorJitter(30),
    transforms.ColorJitter(60),
    transforms.ToTensor()
])

train_data = torchvision.datasets.ImageFolder(root = "./drive/My Drive/FIFA_data/Train_data", transform = transforms_)

data_loader = torch.utils.data.DataLoader(dataset = train_data, batch_size = batch_size, shuffle = True, drop_last = True)

#�� ����
model = models.resnet18(pretrained = True)
for parameter in model.parameters():
  parameter.requires_grad = False
  
num_feature = model.fc.in_features
model.fc = nn.Linear(num_feature, 5)
func = model.cuda()

#optimizer ����
optimizer = torch.optim.Adam(func.parameters(), lr = learning_rate)

#loss �Լ� ����
LossFunc = nn.CrossEntropyLoss()

for i in range(epoch + 1):
    total = 0
    correct = 0
    for x, y in data_loader:
        x = x.cuda()
        y = y.cuda()

       
        #prediction ���
        pred = func(x)
        
        #loss ���
        loss = LossFunc(pred, y)

        #model update
        optimizer.zero_grad()
        loss.backward()
        optimizer.step()
        
        total += batch_size
        correct += (pred.argmax(dim = 1) == y).sum().item()

    #torch.save(func.state_dict(), "check_point-%04d.bin"%i)
    if i % 10 == 0:
      print('Epoch %d. accuracy: %0.5f' %(i, correct / total * 100))


#test
transforms_ = transforms.ToTensor()

test = dsets.ImageFolder(root = './drive/My Drive/FIFA_data/Test_data', transform = transforms_)
test_data = torch.utils.data.DataLoader(dataset = test, batch_size = batch_size)

total = 0
correct = 0
for x, y in test_data:
    x = x.cuda()
    y = y.cuda()

    #prediction ���
    pred = func(x)

    #loss ���
    loss = LossFunc(pred, y)

    total += batch_size
    correct += (pred.argmax(dim = 1) == y).sum().item()

print('accuracy: %0.5f' %(correct / total * 100))

