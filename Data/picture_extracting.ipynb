{
 "cells": [
  {
   "cell_type": "code",
   "execution_count": 1,
   "metadata": {},
   "outputs": [],
   "source": [
    "#-*- coding:utf-8 -*-\n",
    "import requests\n",
    "import shutil\n",
    "import os\n",
    "from collections import defaultdict"
   ]
  },
  {
   "cell_type": "code",
   "execution_count": 2,
   "metadata": {},
   "outputs": [],
   "source": [
    "ID_URL = defaultdict(list)\n",
    "\n",
    "with open(\"./valid_data.csv\", \"r\", encoding=\"UTF-8\") as f:\n",
    "    for i in map(lambda x:x.split(','), f):\n",
    "        ID_URL[i[3].strip()].append((i[0], i[2]))\n",
    "\n",
    "del ID_URL[\"Nationality\"]"
   ]
  },
  {
   "cell_type": "code",
   "execution_count": 3,
   "metadata": {},
   "outputs": [
    {
     "data": {
      "text/plain": [
       "'\\n\\ncnt = 0\\nfor nation, temp in ID_URL.items():\\n    for ID, URL in temp:\\n        r = requests.get(URL, stream=True)\\n        if r.status_code == 200:\\n            cnt += 1\\n            \\n            path = f\"./valid_pictures/{nation}\"\\n            if not os.path.isdir(path):\\n                os.mkdir(path)\\n            \\n            with open(f\"{path}/{ID}.png\", \"wb\") as f:\\n                r.raw.decode_content = True\\n                shutil.copyfileobj(r.raw, f)\\n            \\n            print(cnt, ID, URL)\\n'"
      ]
     },
     "execution_count": 3,
     "metadata": {},
     "output_type": "execute_result"
    }
   ],
   "source": [
    "\"\"\"\n",
    "\n",
    "cnt = 0\n",
    "for nation, temp in ID_URL.items():\n",
    "    for ID, URL in temp:\n",
    "        r = requests.get(URL, stream=True)\n",
    "        if r.status_code == 200:\n",
    "            cnt += 1\n",
    "            \n",
    "            path = f\"./valid_pictures/{nation}\"\n",
    "            if not os.path.isdir(path):\n",
    "                os.mkdir(path)\n",
    "            \n",
    "            with open(f\"{path}/{ID}.png\", \"wb\") as f:\n",
    "                r.raw.decode_content = True\n",
    "                shutil.copyfileobj(r.raw, f)\n",
    "            \n",
    "            print(cnt, ID, URL)\n",
    "\"\"\"\n"
   ]
  },
  {
   "cell_type": "code",
   "execution_count": 4,
   "metadata": {},
   "outputs": [
    {
     "data": {
      "text/plain": [
       "['Colombia',\n",
       " 'Denmark',\n",
       " 'Wales',\n",
       " 'Senegal',\n",
       " 'Costa Rica',\n",
       " 'Slovakia',\n",
       " 'Netherlands',\n",
       " 'Bosnia Herzegovina',\n",
       " 'Morocco',\n",
       " 'Serbia',\n",
       " 'Algeria',\n",
       " 'Austria',\n",
       " 'Greece',\n",
       " 'Chile',\n",
       " 'Sweden',\n",
       " 'Korea Republic',\n",
       " 'Finland',\n",
       " 'Guinea',\n",
       " 'Montenegro',\n",
       " 'Switzerland',\n",
       " 'Norway',\n",
       " 'Czech Republic',\n",
       " 'Scotland',\n",
       " 'Ghana',\n",
       " 'DR Congo',\n",
       " 'Ivory Coast',\n",
       " 'Russia',\n",
       " 'Ukraine',\n",
       " 'Iceland',\n",
       " 'Mexico',\n",
       " 'Jamaica',\n",
       " 'Albania',\n",
       " 'Venezuela',\n",
       " 'Japan',\n",
       " 'Turkey',\n",
       " 'Ecuador',\n",
       " 'Paraguay',\n",
       " 'Mali',\n",
       " 'Nigeria',\n",
       " 'Cameroon',\n",
       " 'Hungary',\n",
       " 'Republic of Ireland',\n",
       " 'Romania',\n",
       " 'United States',\n",
       " 'Australia',\n",
       " 'Peru',\n",
       " 'Tunisia',\n",
       " 'New Zealand',\n",
       " 'China PR',\n",
       " 'Bulgaria',\n",
       " 'Kosovo',\n",
       " 'South Africa',\n",
       " 'Georgia',\n",
       " 'Congo',\n",
       " 'Canada',\n",
       " 'Northern Ireland',\n",
       " 'Saudi Arabia',\n",
       " 'Bolivia',\n",
       " 'India']"
      ]
     },
     "execution_count": 4,
     "metadata": {},
     "output_type": "execute_result"
    }
   ],
   "source": [
    "list(ID_URL.keys())[14:]"
   ]
  },
  {
   "cell_type": "code",
   "execution_count": null,
   "metadata": {},
   "outputs": [
    {
     "name": "stdout",
     "output_type": "stream",
     "text": [
      "1 198710 https://cdn.sofifa.org/players/4/19/198710.png\n",
      "2 220793 https://cdn.sofifa.org/players/4/19/220793.png\n",
      "3 193082 https://cdn.sofifa.org/players/4/19/193082.png\n",
      "4 167397 https://cdn.sofifa.org/players/4/19/167397.png\n",
      "5 207664 https://cdn.sofifa.org/players/4/19/207664.png\n",
      "6 201377 https://cdn.sofifa.org/players/4/19/201377.png\n",
      "7 199110 https://cdn.sofifa.org/players/4/19/199110.png\n",
      "8 213991 https://cdn.sofifa.org/players/4/19/213991.png\n",
      "9 176550 https://cdn.sofifa.org/players/4/19/176550.png\n",
      "10 220523 https://cdn.sofifa.org/players/4/19/220523.png\n",
      "11 215333 https://cdn.sofifa.org/players/4/19/215333.png\n",
      "12 214394 https://cdn.sofifa.org/players/4/19/214394.png\n",
      "13 214026 https://cdn.sofifa.org/players/4/19/214026.png\n",
      "14 210513 https://cdn.sofifa.org/players/4/19/210513.png\n",
      "15 204259 https://cdn.sofifa.org/players/4/19/204259.png\n",
      "16 219411 https://cdn.sofifa.org/players/4/19/219411.png\n",
      "FATAL ERROR 214040 https://cdn.sofifa.org/players/4/19/214040.png\n",
      "16 Download Failed\n",
      "17 196147 https://cdn.sofifa.org/players/4/19/196147.png\n",
      "18 196150 https://cdn.sofifa.org/players/4/19/196150.png\n",
      "19 214332 https://cdn.sofifa.org/players/4/19/214332.png\n",
      "20 182882 https://cdn.sofifa.org/players/4/19/182882.png\n",
      "21 186521 https://cdn.sofifa.org/players/4/19/186521.png\n",
      "22 214047 https://cdn.sofifa.org/players/4/19/214047.png\n",
      "23 196142 https://cdn.sofifa.org/players/4/19/196142.png\n",
      "24 196143 https://cdn.sofifa.org/players/4/19/196143.png\n",
      "25 169051 https://cdn.sofifa.org/players/4/19/169051.png\n",
      "26 214110 https://cdn.sofifa.org/players/4/19/214110.png\n",
      "27 213899 https://cdn.sofifa.org/players/4/19/213899.png\n",
      "28 190607 https://cdn.sofifa.org/players/4/19/190607.png\n",
      "29 190919 https://cdn.sofifa.org/players/4/19/190919.png\n",
      "30 214327 https://cdn.sofifa.org/players/4/19/214327.png\n",
      "31 225356 https://cdn.sofifa.org/players/4/19/225356.png\n",
      "32 214605 https://cdn.sofifa.org/players/4/19/214605.png\n"
     ]
    }
   ],
   "source": [
    "cnt = 0\n",
    "\n",
    "for nation, temp in list(ID_URL.items())[14:]:\n",
    "    for ID, URL in temp:\n",
    "        try:\n",
    "            r = requests.get(URL, stream=True)\n",
    "            if r.status_code == 200:\n",
    "                cnt += 1\n",
    "\n",
    "                path = f\"./valid_pictures/{nation}\"\n",
    "                if not os.path.isdir(path):\n",
    "                    os.mkdir(path)\n",
    "\n",
    "                with open(f\"{path}/{ID}.png\", \"wb\") as f:\n",
    "                    r.raw.decode_content = True\n",
    "                    shutil.copyfileobj(r.raw, f)\n",
    "\n",
    "                print(cnt, ID, URL)\n",
    "            else:\n",
    "                print(cnt, \"Download Failed\")\n",
    "        except:\n",
    "            print(\"FATAL ERROR\", ID, URL)\n",
    "            pass \n"
   ]
  },
  {
   "cell_type": "code",
   "execution_count": null,
   "metadata": {},
   "outputs": [],
   "source": []
  }
 ],
 "metadata": {
  "kernelspec": {
   "display_name": "Python 3",
   "language": "python",
   "name": "python3"
  },
  "language_info": {
   "codemirror_mode": {
    "name": "ipython",
    "version": 3
   },
   "file_extension": ".py",
   "mimetype": "text/x-python",
   "name": "python",
   "nbconvert_exporter": "python",
   "pygments_lexer": "ipython3",
   "version": "3.6.8"
  }
 },
 "nbformat": 4,
 "nbformat_minor": 2
}
