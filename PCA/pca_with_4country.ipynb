{
 "cells": [
  {
   "cell_type": "markdown",
   "metadata": {},
   "source": [
    "### Albania, Canada, China PR, France 네 가지 나라로 분류"
   ]
  },
  {
   "cell_type": "code",
   "execution_count": 1,
   "metadata": {},
   "outputs": [],
   "source": [
    "import cv2\n",
    "import numpy as np\n",
    "import sys\n",
    "from sklearn.model_selection import train_test_split\n",
    "from sklearn.metrics import classification_report\n",
    "from sklearn.decomposition import PCA\n",
    "from sklearn.model_selection import GridSearchCV\n",
    "from sklearn.svm import SVC\n",
    "import os\n",
    "import pandas as pd"
   ]
  },
  {
   "cell_type": "code",
   "execution_count": 2,
   "metadata": {},
   "outputs": [],
   "source": [
    "def read_data(fin):\n",
    "    \"\"\" 이미지 파일을 읽어 들여 이미지 데이터, 국가를 리턴\"\"\"\n",
    "    data = pd.read_csv(fin)\n",
    "    target_li=[]\n",
    "    data_li=[]\n",
    "    for i in range(len(data)):\n",
    "        image_id = int(data.iloc[i][0])\n",
    "        target_nation = data.iloc[i][3]\n",
    "        working_dir = fin.split('/')[:-1]\n",
    "        image_path = '/'.join(working_dir)+'/valid_pictures/'+ target_nation +'/{}.png'.format(image_id)\n",
    "       \n",
    "        if (os.path.isfile(image_path)):\n",
    "            image_data = cv2.imread(image_path, 0)\n",
    "            data_li.append(image_data)\n",
    "            target_li.append(target_nation)\n",
    "\n",
    "    return (np.array(data_li), np.array(target_li))"
   ]
  },
  {
   "cell_type": "code",
   "execution_count": 3,
   "metadata": {},
   "outputs": [],
   "source": [
    "def create_train_test_data(image_data, label_li):\n",
    "    #데이터 수, 세로 픽셀, 가로 픽셀 \n",
    "    n_samples, image_h, image_w = image_data.shape\n",
    "\n",
    "    X = image_data.reshape(n_samples, -1)\n",
    " \n",
    "    n_features = X.shape[1]\n",
    "    y = label_li\n",
    "    #클래스 갯수는 지금 테스트로 돌려볼 때만 4로!!!!\n",
    "    n_classes = 4\n",
    "    \n",
    "    print(\"total dataset size:\")\n",
    "    print(\"n_samples: %d\" % n_samples)\n",
    "    print(\"n_features: %d\" % n_features)\n",
    "    print(\"n_classes: %d\" % n_classes)\n",
    "    \n",
    "    X_train, X_test, y_train, y_test = train_test_split(X, y, test_size=0.25, random_state=42)\n",
    "    return(X_train, X_test, y_train, y_test)"
   ]
  },
  {
   "cell_type": "code",
   "execution_count": 4,
   "metadata": {},
   "outputs": [],
   "source": [
    "def extract_features(X_train, X_test, n_components):\n",
    "    print(\"Extracting the top %d eigenfaces from %d faces\"\n",
    "         % (n_components, X_train.shape[0]))\n",
    "    pca = PCA(n_components = n_components,\n",
    "             svd_solver='randomized', whiten=True).fit(X_train)\n",
    "    \n",
    "    eigenfaces = pca.components_.reshape((n_components, 48, 48))\n",
    "    #주성분 차원바꾸기\n",
    "    X_train_pca = pca.transform(X_train)\n",
    "    X_test_pca = pca.transform(X_test) \n",
    "    \n",
    "    return(X_train_pca, X_test_pca, eigenfaces)"
   ]
  },
  {
   "cell_type": "code",
   "execution_count": 5,
   "metadata": {},
   "outputs": [],
   "source": [
    "def train_test_classifier(X_train_pca, X_test_pca, y_train, y_test):\n",
    "    print(\"Fitting the classifier to the training set\")\n",
    "    param_grid={'C':[1e3, 5e3, 1e4, 5e4, 1e5],\n",
    "               'gamma':[0.0001, 0.0005, 0.001, 0.005, 0.01, 0.1],}\n",
    "    clf = GridSearchCV(SVC(kernel='rbf', class_weight='balanced'), param_grid)\n",
    "    clf = clf.fit(X_train_pca, y_train)\n",
    "    print(\"best estimator found by grid search\")\n",
    "    print(clf.best_estimator_)\n",
    "    print(\"predicting people's names on the test set\")\n",
    "    y_pred = clf.predict(X_test_pca)\n",
    "    print(classification_report(y_test, y_pred))"
   ]
  },
  {
   "cell_type": "code",
   "execution_count": 6,
   "metadata": {},
   "outputs": [],
   "source": [
    "from matplotlib import pyplot as plt\n",
    "\n",
    "def plot_gallery(images, n_col=5):\n",
    "    n_row = round(images.shape[0]/n_col)\n",
    "    plt.figure(figsize=(1.8 * n_col, 2.4 * n_row))\n",
    "    plt.subplots_adjust(bottom=0.1, left=0.01, right=0.99, top=0.90, hspace=0.35)\n",
    "    \n",
    "    for i in range(n_row * n_col):\n",
    "        plt.subplot(n_row, n_col, i+1)\n",
    "        #플롯값의 최대치를 흰색으로, 최소치를 검은색으로 변환 ( 특징이 되는 곳이 흰색으로 두드러지게 하는것)\n",
    "        plt.imshow(images[i], cmap='gray')\n",
    "        plt.xticks(())\n",
    "        plt.yticks(())"
   ]
  },
  {
   "cell_type": "code",
   "execution_count": 7,
   "metadata": {},
   "outputs": [
    {
     "name": "stdout",
     "output_type": "stream",
     "text": [
      "total dataset size:\n",
      "n_samples: 1220\n",
      "n_features: 2304\n",
      "n_classes: 4\n",
      "Extracting the top 10 eigenfaces from 915 faces\n",
      "Fitting the classifier to the training set\n"
     ]
    },
    {
     "name": "stderr",
     "output_type": "stream",
     "text": [
      "C:\\Users\\HanSung\\AppData\\Local\\conda\\conda\\envs\\tensorflow\\lib\\site-packages\\sklearn\\model_selection\\_split.py:1978: FutureWarning: The default value of cv will change from 3 to 5 in version 0.22. Specify it explicitly to silence this warning.\n",
      "  warnings.warn(CV_WARNING, FutureWarning)\n"
     ]
    },
    {
     "name": "stdout",
     "output_type": "stream",
     "text": [
      "best estimator found by grid search\n",
      "SVC(C=1000.0, cache_size=200, class_weight='balanced', coef0=0.0,\n",
      "    decision_function_shape='ovr', degree=3, gamma=0.1, kernel='rbf',\n",
      "    max_iter=-1, probability=False, random_state=None, shrinking=True,\n",
      "    tol=0.001, verbose=False)\n",
      "predicting people's names on the test set\n",
      "              precision    recall  f1-score   support\n",
      "\n",
      "     Albania       0.07      0.33      0.12         3\n",
      "      Canada       0.17      0.07      0.10        14\n",
      "    China PR       0.98      0.96      0.97       102\n",
      "      France       0.91      0.90      0.91       186\n",
      "\n",
      "    accuracy                           0.88       305\n",
      "   macro avg       0.53      0.57      0.52       305\n",
      "weighted avg       0.89      0.88      0.88       305\n",
      "\n"
     ]
    },
    {
     "data": {
      "image/png": "[encoded data removed]",
      "text/plain": [
       "<Figure size 648x345.6 with 10 Axes>"
      ]
     },
     "metadata": {},
     "output_type": "display_data"
    }
   ],
   "source": [
    "argv = sys.argv\n",
    "image_data, label = read_data('D:/DL/WAYF/Data/small_test.csv')\n",
    "n_eigenface = 10\n",
    "X_train, X_test, y_train, y_test = create_train_test_data(image_data, label)\n",
    "X_train_pca, X_test_pca, eigenface = extract_features(X_train, X_test, n_eigenface)\n",
    "train_test_classifier(X_train_pca, X_test_pca, y_train, y_test)\n",
    "plot_gallery(eigenface)\n",
    "plt.show()"
   ]
  },
  {
   "cell_type": "code",
   "execution_count": 24,
   "metadata": {},
   "outputs": [],
   "source": [
    "df = pd.read_csv('D:/DL/WAYF/Data/valid_data.csv')"
   ]
  },
  {
   "cell_type": "code",
   "execution_count": 34,
   "metadata": {},
   "outputs": [
    {
     "data": {
      "text/html": [
       "<div>\n",
       "<style scoped>\n",
       "    .dataframe tbody tr th:only-of-type {\n",
       "        vertical-align: middle;\n",
       "    }\n",
       "\n",
       "    .dataframe tbody tr th {\n",
       "        vertical-align: top;\n",
       "    }\n",
       "\n",
       "    .dataframe thead th {\n",
       "        text-align: right;\n",
       "    }\n",
       "</style>\n",
       "<table border=\"1\" class=\"dataframe\">\n",
       "  <thead>\n",
       "    <tr style=\"text-align: right;\">\n",
       "      <th></th>\n",
       "      <th>ID</th>\n",
       "      <th>Name</th>\n",
       "      <th>Photo</th>\n",
       "      <th>Nationality</th>\n",
       "    </tr>\n",
       "  </thead>\n",
       "  <tbody>\n",
       "    <tr>\n",
       "      <th>0</th>\n",
       "      <td>158023</td>\n",
       "      <td>L. Messi</td>\n",
       "      <td>https://cdn.sofifa.org/players/4/19/158023.png</td>\n",
       "      <td>Argentina</td>\n",
       "    </tr>\n",
       "    <tr>\n",
       "      <th>1</th>\n",
       "      <td>20801</td>\n",
       "      <td>Cristiano Ronaldo</td>\n",
       "      <td>https://cdn.sofifa.org/players/4/19/20801.png</td>\n",
       "      <td>Portugal</td>\n",
       "    </tr>\n",
       "    <tr>\n",
       "      <th>2</th>\n",
       "      <td>190871</td>\n",
       "      <td>Neymar Jr</td>\n",
       "      <td>https://cdn.sofifa.org/players/4/19/190871.png</td>\n",
       "      <td>Brazil</td>\n",
       "    </tr>\n",
       "    <tr>\n",
       "      <th>3</th>\n",
       "      <td>193080</td>\n",
       "      <td>De Gea</td>\n",
       "      <td>https://cdn.sofifa.org/players/4/19/193080.png</td>\n",
       "      <td>Spain</td>\n",
       "    </tr>\n",
       "    <tr>\n",
       "      <th>4</th>\n",
       "      <td>192985</td>\n",
       "      <td>K. De Bruyne</td>\n",
       "      <td>https://cdn.sofifa.org/players/4/19/192985.png</td>\n",
       "      <td>Belgium</td>\n",
       "    </tr>\n",
       "  </tbody>\n",
       "</table>\n",
       "</div>"
      ],
      "text/plain": [
       "       ID               Name                                           Photo  \\\n",
       "0  158023           L. Messi  https://cdn.sofifa.org/players/4/19/158023.png   \n",
       "1   20801  Cristiano Ronaldo   https://cdn.sofifa.org/players/4/19/20801.png   \n",
       "2  190871          Neymar Jr  https://cdn.sofifa.org/players/4/19/190871.png   \n",
       "3  193080             De Gea  https://cdn.sofifa.org/players/4/19/193080.png   \n",
       "4  192985       K. De Bruyne  https://cdn.sofifa.org/players/4/19/192985.png   \n",
       "\n",
       "  Nationality  \n",
       "0   Argentina  \n",
       "1    Portugal  \n",
       "2      Brazil  \n",
       "3       Spain  \n",
       "4     Belgium  "
      ]
     },
     "execution_count": 34,
     "metadata": {},
     "output_type": "execute_result"
    }
   ],
   "source": [
    "df.head()"
   ]
  },
  {
   "cell_type": "code",
   "execution_count": 35,
   "metadata": {},
   "outputs": [],
   "source": [
    "df1 = df"
   ]
  },
  {
   "cell_type": "code",
   "execution_count": 36,
   "metadata": {},
   "outputs": [],
   "source": [
    "df1 = df1[\"Nationality\"].value_counts()"
   ]
  },
  {
   "cell_type": "code",
   "execution_count": 38,
   "metadata": {},
   "outputs": [
    {
     "data": {
      "text/plain": [
       "England      1662\n",
       "Germany      1198\n",
       "Spain        1072\n",
       "Argentina     937\n",
       "France        914\n",
       "Name: Nationality, dtype: int64"
      ]
     },
     "execution_count": 38,
     "metadata": {},
     "output_type": "execute_result"
    }
   ],
   "source": [
    "df1.head()"
   ]
  },
  {
   "cell_type": "code",
   "execution_count": 45,
   "metadata": {},
   "outputs": [],
   "source": [
    "df2 = df[df[\"Nationality\"].isin([\"England\", \"Germany\", \"Spain\", \"Argentina\",\"France\"])]"
   ]
  },
  {
   "cell_type": "code",
   "execution_count": 48,
   "metadata": {},
   "outputs": [
    {
     "data": {
      "text/html": [
       "<div>\n",
       "<style scoped>\n",
       "    .dataframe tbody tr th:only-of-type {\n",
       "        vertical-align: middle;\n",
       "    }\n",
       "\n",
       "    .dataframe tbody tr th {\n",
       "        vertical-align: top;\n",
       "    }\n",
       "\n",
       "    .dataframe thead th {\n",
       "        text-align: right;\n",
       "    }\n",
       "</style>\n",
       "<table border=\"1\" class=\"dataframe\">\n",
       "  <thead>\n",
       "    <tr style=\"text-align: right;\">\n",
       "      <th></th>\n",
       "      <th>ID</th>\n",
       "      <th>Name</th>\n",
       "      <th>Photo</th>\n",
       "      <th>Nationality</th>\n",
       "    </tr>\n",
       "  </thead>\n",
       "  <tbody>\n",
       "    <tr>\n",
       "      <th>16</th>\n",
       "      <td>202126</td>\n",
       "      <td>H. Kane</td>\n",
       "      <td>https://cdn.sofifa.org/players/4/19/202126.png</td>\n",
       "      <td>England</td>\n",
       "    </tr>\n",
       "    <tr>\n",
       "      <th>59</th>\n",
       "      <td>202652</td>\n",
       "      <td>R. Sterling</td>\n",
       "      <td>https://cdn.sofifa.org/players/4/19/202652.png</td>\n",
       "      <td>England</td>\n",
       "    </tr>\n",
       "    <tr>\n",
       "      <th>116</th>\n",
       "      <td>211117</td>\n",
       "      <td>D. Alli</td>\n",
       "      <td>https://cdn.sofifa.org/players/4/19/211117.png</td>\n",
       "      <td>England</td>\n",
       "    </tr>\n",
       "    <tr>\n",
       "      <th>134</th>\n",
       "      <td>188377</td>\n",
       "      <td>K. Walker</td>\n",
       "      <td>https://cdn.sofifa.org/players/4/19/188377.png</td>\n",
       "      <td>England</td>\n",
       "    </tr>\n",
       "    <tr>\n",
       "      <th>179</th>\n",
       "      <td>204935</td>\n",
       "      <td>J. Pickford</td>\n",
       "      <td>https://cdn.sofifa.org/players/4/19/204935.png</td>\n",
       "      <td>England</td>\n",
       "    </tr>\n",
       "  </tbody>\n",
       "</table>\n",
       "</div>"
      ],
      "text/plain": [
       "         ID         Name                                           Photo  \\\n",
       "16   202126      H. Kane  https://cdn.sofifa.org/players/4/19/202126.png   \n",
       "59   202652  R. Sterling  https://cdn.sofifa.org/players/4/19/202652.png   \n",
       "116  211117      D. Alli  https://cdn.sofifa.org/players/4/19/211117.png   \n",
       "134  188377    K. Walker  https://cdn.sofifa.org/players/4/19/188377.png   \n",
       "179  204935  J. Pickford  https://cdn.sofifa.org/players/4/19/204935.png   \n",
       "\n",
       "    Nationality  \n",
       "16      England  \n",
       "59      England  \n",
       "116     England  \n",
       "134     England  \n",
       "179     England  "
      ]
     },
     "execution_count": 48,
     "metadata": {},
     "output_type": "execute_result"
    }
   ],
   "source": [
    "df[df[\"Nationality\"].isin([\"England\"])].head()"
   ]
  },
  {
   "cell_type": "code",
   "execution_count": 49,
   "metadata": {},
   "outputs": [
    {
     "data": {
      "text/html": [
       "<div>\n",
       "<style scoped>\n",
       "    .dataframe tbody tr th:only-of-type {\n",
       "        vertical-align: middle;\n",
       "    }\n",
       "\n",
       "    .dataframe tbody tr th {\n",
       "        vertical-align: top;\n",
       "    }\n",
       "\n",
       "    .dataframe thead th {\n",
       "        text-align: right;\n",
       "    }\n",
       "</style>\n",
       "<table border=\"1\" class=\"dataframe\">\n",
       "  <thead>\n",
       "    <tr style=\"text-align: right;\">\n",
       "      <th></th>\n",
       "      <th>ID</th>\n",
       "      <th>Name</th>\n",
       "      <th>Photo</th>\n",
       "      <th>Nationality</th>\n",
       "    </tr>\n",
       "  </thead>\n",
       "  <tbody>\n",
       "    <tr>\n",
       "      <th>11</th>\n",
       "      <td>182521</td>\n",
       "      <td>T. Kroos</td>\n",
       "      <td>https://cdn.sofifa.org/players/4/19/182521.png</td>\n",
       "      <td>Germany</td>\n",
       "    </tr>\n",
       "    <tr>\n",
       "      <th>18</th>\n",
       "      <td>192448</td>\n",
       "      <td>M. ter Stegen</td>\n",
       "      <td>https://cdn.sofifa.org/players/4/19/192448.png</td>\n",
       "      <td>Germany</td>\n",
       "    </tr>\n",
       "    <tr>\n",
       "      <th>22</th>\n",
       "      <td>167495</td>\n",
       "      <td>M. Neuer</td>\n",
       "      <td>https://cdn.sofifa.org/players/4/19/167495.png</td>\n",
       "      <td>Germany</td>\n",
       "    </tr>\n",
       "    <tr>\n",
       "      <th>33</th>\n",
       "      <td>178603</td>\n",
       "      <td>M. Hummels</td>\n",
       "      <td>https://cdn.sofifa.org/players/4/19/178603.png</td>\n",
       "      <td>Germany</td>\n",
       "    </tr>\n",
       "    <tr>\n",
       "      <th>54</th>\n",
       "      <td>222492</td>\n",
       "      <td>L. Sané</td>\n",
       "      <td>https://cdn.sofifa.org/players/4/19/222492.png</td>\n",
       "      <td>Germany</td>\n",
       "    </tr>\n",
       "  </tbody>\n",
       "</table>\n",
       "</div>"
      ],
      "text/plain": [
       "        ID           Name                                           Photo  \\\n",
       "11  182521       T. Kroos  https://cdn.sofifa.org/players/4/19/182521.png   \n",
       "18  192448  M. ter Stegen  https://cdn.sofifa.org/players/4/19/192448.png   \n",
       "22  167495       M. Neuer  https://cdn.sofifa.org/players/4/19/167495.png   \n",
       "33  178603     M. Hummels  https://cdn.sofifa.org/players/4/19/178603.png   \n",
       "54  222492        L. Sané  https://cdn.sofifa.org/players/4/19/222492.png   \n",
       "\n",
       "   Nationality  \n",
       "11     Germany  \n",
       "18     Germany  \n",
       "22     Germany  \n",
       "33     Germany  \n",
       "54     Germany  "
      ]
     },
     "execution_count": 49,
     "metadata": {},
     "output_type": "execute_result"
    }
   ],
   "source": [
    "df[df[\"Nationality\"].isin([\"Germany\"])].head()"
   ]
  },
  {
   "cell_type": "code",
   "execution_count": 50,
   "metadata": {},
   "outputs": [
    {
     "data": {
      "text/html": [
       "<div>\n",
       "<style scoped>\n",
       "    .dataframe tbody tr th:only-of-type {\n",
       "        vertical-align: middle;\n",
       "    }\n",
       "\n",
       "    .dataframe tbody tr th {\n",
       "        vertical-align: top;\n",
       "    }\n",
       "\n",
       "    .dataframe thead th {\n",
       "        text-align: right;\n",
       "    }\n",
       "</style>\n",
       "<table border=\"1\" class=\"dataframe\">\n",
       "  <thead>\n",
       "    <tr style=\"text-align: right;\">\n",
       "      <th></th>\n",
       "      <th>ID</th>\n",
       "      <th>Name</th>\n",
       "      <th>Photo</th>\n",
       "      <th>Nationality</th>\n",
       "    </tr>\n",
       "  </thead>\n",
       "  <tbody>\n",
       "    <tr>\n",
       "      <th>3</th>\n",
       "      <td>193080</td>\n",
       "      <td>De Gea</td>\n",
       "      <td>https://cdn.sofifa.org/players/4/19/193080.png</td>\n",
       "      <td>Spain</td>\n",
       "    </tr>\n",
       "    <tr>\n",
       "      <th>8</th>\n",
       "      <td>155862</td>\n",
       "      <td>Sergio Ramos</td>\n",
       "      <td>https://cdn.sofifa.org/players/4/19/155862.png</td>\n",
       "      <td>Spain</td>\n",
       "    </tr>\n",
       "    <tr>\n",
       "      <th>13</th>\n",
       "      <td>168542</td>\n",
       "      <td>David Silva</td>\n",
       "      <td>https://cdn.sofifa.org/players/4/19/168542.png</td>\n",
       "      <td>Spain</td>\n",
       "    </tr>\n",
       "    <tr>\n",
       "      <th>20</th>\n",
       "      <td>189511</td>\n",
       "      <td>Sergio Busquets</td>\n",
       "      <td>https://cdn.sofifa.org/players/4/19/189511.png</td>\n",
       "      <td>Spain</td>\n",
       "    </tr>\n",
       "    <tr>\n",
       "      <th>30</th>\n",
       "      <td>197781</td>\n",
       "      <td>Isco</td>\n",
       "      <td>https://cdn.sofifa.org/players/4/19/197781.png</td>\n",
       "      <td>Spain</td>\n",
       "    </tr>\n",
       "  </tbody>\n",
       "</table>\n",
       "</div>"
      ],
      "text/plain": [
       "        ID             Name                                           Photo  \\\n",
       "3   193080           De Gea  https://cdn.sofifa.org/players/4/19/193080.png   \n",
       "8   155862     Sergio Ramos  https://cdn.sofifa.org/players/4/19/155862.png   \n",
       "13  168542      David Silva  https://cdn.sofifa.org/players/4/19/168542.png   \n",
       "20  189511  Sergio Busquets  https://cdn.sofifa.org/players/4/19/189511.png   \n",
       "30  197781             Isco  https://cdn.sofifa.org/players/4/19/197781.png   \n",
       "\n",
       "   Nationality  \n",
       "3        Spain  \n",
       "8        Spain  \n",
       "13       Spain  \n",
       "20       Spain  \n",
       "30       Spain  "
      ]
     },
     "execution_count": 50,
     "metadata": {},
     "output_type": "execute_result"
    }
   ],
   "source": [
    "df[df[\"Nationality\"].isin([\"Spain\"])].head()"
   ]
  },
  {
   "cell_type": "code",
   "execution_count": 51,
   "metadata": {},
   "outputs": [
    {
     "data": {
      "text/html": [
       "<div>\n",
       "<style scoped>\n",
       "    .dataframe tbody tr th:only-of-type {\n",
       "        vertical-align: middle;\n",
       "    }\n",
       "\n",
       "    .dataframe tbody tr th {\n",
       "        vertical-align: top;\n",
       "    }\n",
       "\n",
       "    .dataframe thead th {\n",
       "        text-align: right;\n",
       "    }\n",
       "</style>\n",
       "<table border=\"1\" class=\"dataframe\">\n",
       "  <thead>\n",
       "    <tr style=\"text-align: right;\">\n",
       "      <th></th>\n",
       "      <th>ID</th>\n",
       "      <th>Name</th>\n",
       "      <th>Photo</th>\n",
       "      <th>Nationality</th>\n",
       "    </tr>\n",
       "  </thead>\n",
       "  <tbody>\n",
       "    <tr>\n",
       "      <th>0</th>\n",
       "      <td>158023</td>\n",
       "      <td>L. Messi</td>\n",
       "      <td>https://cdn.sofifa.org/players/4/19/158023.png</td>\n",
       "      <td>Argentina</td>\n",
       "    </tr>\n",
       "    <tr>\n",
       "      <th>15</th>\n",
       "      <td>211110</td>\n",
       "      <td>P. Dybala</td>\n",
       "      <td>https://cdn.sofifa.org/players/4/19/211110.png</td>\n",
       "      <td>Argentina</td>\n",
       "    </tr>\n",
       "    <tr>\n",
       "      <th>23</th>\n",
       "      <td>153079</td>\n",
       "      <td>S. Agüero</td>\n",
       "      <td>https://cdn.sofifa.org/players/4/19/153079.png</td>\n",
       "      <td>Argentina</td>\n",
       "    </tr>\n",
       "    <tr>\n",
       "      <th>37</th>\n",
       "      <td>167664</td>\n",
       "      <td>G. Higuaín</td>\n",
       "      <td>https://cdn.sofifa.org/players/4/19/167664.png</td>\n",
       "      <td>Argentina</td>\n",
       "    </tr>\n",
       "    <tr>\n",
       "      <th>42</th>\n",
       "      <td>201399</td>\n",
       "      <td>M. Icardi</td>\n",
       "      <td>https://cdn.sofifa.org/players/4/19/201399.png</td>\n",
       "      <td>Argentina</td>\n",
       "    </tr>\n",
       "  </tbody>\n",
       "</table>\n",
       "</div>"
      ],
      "text/plain": [
       "        ID        Name                                           Photo  \\\n",
       "0   158023    L. Messi  https://cdn.sofifa.org/players/4/19/158023.png   \n",
       "15  211110   P. Dybala  https://cdn.sofifa.org/players/4/19/211110.png   \n",
       "23  153079   S. Agüero  https://cdn.sofifa.org/players/4/19/153079.png   \n",
       "37  167664  G. Higuaín  https://cdn.sofifa.org/players/4/19/167664.png   \n",
       "42  201399   M. Icardi  https://cdn.sofifa.org/players/4/19/201399.png   \n",
       "\n",
       "   Nationality  \n",
       "0    Argentina  \n",
       "15   Argentina  \n",
       "23   Argentina  \n",
       "37   Argentina  \n",
       "42   Argentina  "
      ]
     },
     "execution_count": 51,
     "metadata": {},
     "output_type": "execute_result"
    }
   ],
   "source": [
    "df[df[\"Nationality\"].isin([\"Argentina\"])].head()"
   ]
  },
  {
   "cell_type": "code",
   "execution_count": 52,
   "metadata": {},
   "outputs": [
    {
     "data": {
      "text/html": [
       "<div>\n",
       "<style scoped>\n",
       "    .dataframe tbody tr th:only-of-type {\n",
       "        vertical-align: middle;\n",
       "    }\n",
       "\n",
       "    .dataframe tbody tr th {\n",
       "        vertical-align: top;\n",
       "    }\n",
       "\n",
       "    .dataframe thead th {\n",
       "        text-align: right;\n",
       "    }\n",
       "</style>\n",
       "<table border=\"1\" class=\"dataframe\">\n",
       "  <thead>\n",
       "    <tr style=\"text-align: right;\">\n",
       "      <th></th>\n",
       "      <th>ID</th>\n",
       "      <th>Name</th>\n",
       "      <th>Photo</th>\n",
       "      <th>Nationality</th>\n",
       "    </tr>\n",
       "  </thead>\n",
       "  <tbody>\n",
       "    <tr>\n",
       "      <th>14</th>\n",
       "      <td>215914</td>\n",
       "      <td>N. Kanté</td>\n",
       "      <td>https://cdn.sofifa.org/players/4/19/215914.png</td>\n",
       "      <td>France</td>\n",
       "    </tr>\n",
       "    <tr>\n",
       "      <th>17</th>\n",
       "      <td>194765</td>\n",
       "      <td>A. Griezmann</td>\n",
       "      <td>https://cdn.sofifa.org/players/4/19/194765.png</td>\n",
       "      <td>France</td>\n",
       "    </tr>\n",
       "    <tr>\n",
       "      <th>25</th>\n",
       "      <td>231747</td>\n",
       "      <td>K. Mbappé</td>\n",
       "      <td>https://cdn.sofifa.org/players/4/19/231747.png</td>\n",
       "      <td>France</td>\n",
       "    </tr>\n",
       "    <tr>\n",
       "      <th>36</th>\n",
       "      <td>167948</td>\n",
       "      <td>H. Lloris</td>\n",
       "      <td>https://cdn.sofifa.org/players/4/19/167948.png</td>\n",
       "      <td>France</td>\n",
       "    </tr>\n",
       "    <tr>\n",
       "      <th>41</th>\n",
       "      <td>205600</td>\n",
       "      <td>S. Umtiti</td>\n",
       "      <td>https://cdn.sofifa.org/players/4/19/205600.png</td>\n",
       "      <td>France</td>\n",
       "    </tr>\n",
       "  </tbody>\n",
       "</table>\n",
       "</div>"
      ],
      "text/plain": [
       "        ID          Name                                           Photo  \\\n",
       "14  215914      N. Kanté  https://cdn.sofifa.org/players/4/19/215914.png   \n",
       "17  194765  A. Griezmann  https://cdn.sofifa.org/players/4/19/194765.png   \n",
       "25  231747     K. Mbappé  https://cdn.sofifa.org/players/4/19/231747.png   \n",
       "36  167948     H. Lloris  https://cdn.sofifa.org/players/4/19/167948.png   \n",
       "41  205600     S. Umtiti  https://cdn.sofifa.org/players/4/19/205600.png   \n",
       "\n",
       "   Nationality  \n",
       "14      France  \n",
       "17      France  \n",
       "25      France  \n",
       "36      France  \n",
       "41      France  "
      ]
     },
     "execution_count": 52,
     "metadata": {},
     "output_type": "execute_result"
    }
   ],
   "source": [
    "df[df[\"Nationality\"].isin([\"France\"])].head()"
   ]
  },
  {
   "cell_type": "code",
   "execution_count": null,
   "metadata": {},
   "outputs": [],
   "source": []
  }
 ],
 "metadata": {
  "kernelspec": {
   "display_name": "Python 3",
   "language": "python",
   "name": "python3"
  },
  "language_info": {
   "codemirror_mode": {
    "name": "ipython",
    "version": 3
   },
   "file_extension": ".py",
   "mimetype": "text/x-python",
   "name": "python",
   "nbconvert_exporter": "python",
   "pygments_lexer": "ipython3",
   "version": "3.6.8"
  }
 },
 "nbformat": 4,
 "nbformat_minor": 2
}
