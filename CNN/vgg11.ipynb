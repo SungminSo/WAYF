{
 "cells": [
  {
   "cell_type": "markdown",
   "metadata": {},
   "source": [
    "## 얼굴 사진으로 국적 분류\n",
    "### England Germany Spain Argentina France\n",
    "#### using vgg11"
   ]
  },
  {
   "cell_type": "code",
   "execution_count": 1,
   "metadata": {},
   "outputs": [],
   "source": [
    "'''\n",
    "\n",
    "Using VGG13 model\n",
    "\n",
    "# Reference:\n",
    "- [Very Deep Convolutional Networks for Large-Scale Image Recognition]\n",
    "'''\n",
    "\n",
    "from __future__ import absolute_import\n",
    "from __future__ import division\n",
    "from __future__ import print_function\n",
    "\n",
    "import numpy as np\n",
    "import pandas as pd\n",
    "import tensorflow as tf\n",
    "import os\n",
    "import cv2\n",
    "\n",
    "from sklearn.model_selection import train_test_split"
   ]
  },
  {
   "cell_type": "code",
   "execution_count": 2,
   "metadata": {},
   "outputs": [],
   "source": [
    "def read_data(fin):\n",
    "    \"\"\" 이미지 파일을 읽어 들여 이미지 데이터, 국가를 리턴\"\"\"\n",
    "    data = pd.read_csv(fin)\n",
    "    target_li=[]\n",
    "    data_li=[]\n",
    "    for i in range(len(data)):\n",
    "        image_id = int(data.iloc[i][0])\n",
    "        target_nation = data.iloc[i][3]\n",
    "        working_dir = fin.split('/')[:-1]\n",
    "        for i in range(10):\n",
    "            if i == 0:\n",
    "                image_path = '/'.join(working_dir)+'/valid_pictures/'+ target_nation +'/{}.png'.format(image_id)\n",
    "            else:\n",
    "                image_path = '/'.join(working_dir)+'/valid_pictures/'+ target_nation +'/{}_{}.png'.format(image_id, i)\n",
    "                \n",
    "            if (os.path.isfile(image_path)):\n",
    "                image_data = cv2.imread(image_path)\n",
    "                data_li.append(image_data)\n",
    "                target_li.append(target_nation)\n",
    "\n",
    "    return (np.array(data_li), np.array(target_li))"
   ]
  },
  {
   "cell_type": "code",
   "execution_count": 3,
   "metadata": {},
   "outputs": [],
   "source": [
    "def create_train_test_data(image_data, label_li):\n",
    "    #데이터 수, 세로 픽셀, 가로 픽셀 \n",
    "    n_samples, image_h, image_w, _channel = image_data.shape\n",
    "    print(image_h)\n",
    "    print(image_w)\n",
    "    X = image_data\n",
    " \n",
    "    n_features = X.shape[1]\n",
    "    y = label_li\n",
    "    \n",
    "    #클래스 갯수 = 분류할 국가 수\n",
    "    n_classes = 5\n",
    "    \n",
    "    print(\"total dataset size:\")\n",
    "    print(\"n_samples: %d\" % n_samples)\n",
    "    print(\"n_features: %d\" % n_features)\n",
    "    print(\"n_classes: %d\" % n_classes)\n",
    "    \n",
    "    X_train, X_test, y_train, y_test = train_test_split(X, y, test_size=0.25, random_state=42)\n",
    "    return(X_train, X_test, y_train, y_test)"
   ]
  },
  {
   "cell_type": "code",
   "execution_count": 4,
   "metadata": {},
   "outputs": [],
   "source": [
    "def weight_variable(shape):\n",
    "    '''\n",
    "    파라미터(가중치 텐서)의 초깃값을 정하는 함수\n",
    "    표준편차가 0.1인 절단정규분포 이용\n",
    "    '''\n",
    "    initial = tf.truncated_normal(shape, stddev=0.01)\n",
    "    return tf.Variable(initial, name=\"weights\")\n",
    "\n",
    "def bias_variable(shape):\n",
    "    '''\n",
    "    편향값의 초깃값을 정하는 함수\n",
    "    '''\n",
    "    initial = tf.constant(0.1, shape=shape)\n",
    "    return tf.Variable(initial, name=\"bias\")"
   ]
  },
  {
   "cell_type": "code",
   "execution_count": null,
   "metadata": {},
   "outputs": [],
   "source": []
  }
 ],
 "metadata": {
  "kernelspec": {
   "display_name": "Python 3",
   "language": "python",
   "name": "python3"
  },
  "language_info": {
   "codemirror_mode": {
    "name": "ipython",
    "version": 3
   },
   "file_extension": ".py",
   "mimetype": "text/x-python",
   "name": "python",
   "nbconvert_exporter": "python",
   "pygments_lexer": "ipython3",
   "version": "3.6.8"
  }
 },
 "nbformat": 4,
 "nbformat_minor": 2
}
